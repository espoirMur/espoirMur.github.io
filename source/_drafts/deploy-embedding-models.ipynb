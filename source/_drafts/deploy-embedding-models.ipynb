{
 "cells": [
  {
   "cell_type": "markdown",
   "id": "3e76fad6",
   "metadata": {},
   "source": [
    "\n",
    "## Deploy your language models to production using  ONNX runtime and the triton inference server\n",
    "\n",
    "\n",
    "You are a Data Scientist who has finally trained a  machine-learning model in a jupyter notebook. The model works fine, and you are happy with your results. Now you want to expose it to the users so that they can interact with it.\n",
    "\n",
    "You have different options to serve your model to your users. You can use the jupyter notebook directly in production. You can wrap the model in a pickle file and serve it using an API. Both options work, but can they handle millions of requests per second in a production environment? In this post, I will show how you can use modern tools to deploy an embedding model in a scalable way.  We'll use the ONNX runtime, Triton inference server, and Kubernetes. These tools will help us to deploy  a production-ready language model.\n",
    "\n",
    "Data scientists and language engineer researchers aiming to use their models in production should read this. It discusses the engineering principles of scalable embedding APIs.\n",
    "\n",
    "It will be divided into two parts. In the first part, we will prepare the model for a production setting. We will use the ONNX runtime and Docker container to achieve that goal. Finally,  in the second part, we will learn how to scale our Apis using Kubernetes.\n",
    "\n",
    "If I have time later, I'll explain how to use the embedding API in a  downstream app  like a Retrieval Augmentation Generation RAG. \n",
    "\n",
    "Before we dive into the deployment bits of this application, let us first review what embeddings are.\n",
    "\n",
    "[Find a picture here]\n",
    "## Embeddings.\n",
    "\n",
    "Embedding models are the backbone of generative AI. They are a major piece of such applications. \n",
    "\n",
    "Embeddings are representations of words in a vector space. They capture words semantics such as, with them, similar vectors represent similar words. \n",
    "\n",
    " Contextual embeddings are embeddings such as each word is represented with a vector given its context. \n",
    "\n",
    "Let's look at those two examples: \n",
    "\n",
    "_The bank of the river Thames is located in south London._\n",
    "\n",
    "_I am going to withdraw cash at Lloyds Bank._\n",
    "\n",
    "In those two different sentences the word `bank` has two different meanings. In the first,  bank means _the land alongside or sloping down to a river or lake._ In the second sentence, it means _a place where you save money._\n",
    "\n",
    "Embedding models can capture those differences. And  represent words with two different vectors according to the context.\n",
    "\n",
    "This is not a post to explain how embedding models are built, if you want to learn more about them refer to [this post.](https://mccormickml.com/2019/05/14/BERT-word-embeddings-tutorial/)\n",
    "\n",
    "But one thing to know is that embedding models are built with language models or Large language models.\n",
    "\n",
    "[Add A Picture of Embeddings here]\n",
    "\n",
    "## Large Language Models.\n",
    "\n",
    "Large language models are neural networks or probabilistic models that can predict the next word given the previous words.\n",
    "\n",
    "One of the most common neural network architectures to power language models is the transformer model. It was introduced in 2017 by Google researchers. Those models have a powerful capacity when to comes to understanding words and their meanings. Because they are trained on a large corpus of documents.\n",
    "\n",
    "During their training, transformers' models can learn contextual word embedding.  Those embeddings are useful in downstream applications such as chatbots, document classification, topic modeling, document clustering  et consort..\n",
    "\n",
    "Again, this post is not about language models, there  are legions on the internet, my favorite one is the  [illustrated trasnfomer](https://jalammar.github.io/illustrated-transformer/).\n",
    "\n",
    "If this post is not about word embedding theory, or large language model theory what is it about?\n",
    "\n",
    "Nice question, this post is about deploying a large language model. We will learn how to create an embedding service, a api that developers can query to generate document embedding. \n",
    "\n",
    "We will build a scalable API. Developers can query it to get word embeddings of their sentences. They can use the embeddings in downstream applications. This API can be part of a chatbot, or a Retrieval Augmented Generation application.\n",
    "\n",
    "I made it for educational purposes while learning how to deploy a language model using Kubernetes.  If you want a production-ready application that can support multiple embedding models  [checkout.](https://github.com/jina-ai/clip-as-service)\n",
    "\n",
    "In this post, we will learn how to deploy a transformer model that generates embedding vectors on Kubernetes using the triton inference server and the ONNX runtime.\n",
    "\n",
    "Enough talking let's show us the code!\n",
    "\n",
    "\n",
    "## The embedding models.\n",
    "\n",
    "In this post, we will explore the embedding model generated by the BioLinkBert. The bioLinkBert model is a model from the BERT family but it was fine-tuned on documents from the medical domain. The reason I used the Biolink model is that I want to build a chatbot application for the medical domain in the future.\n",
    "\n",
    "The embedding of words is the last hidden state of a transformer model where the output is the word encoded as text. Let us see how it works  in practice. We will be using a custom Bert model which inherits the base Bert model from Huggingface.\n",
    "\n"
   ]
  },
  {
   "cell_type": "code",
   "execution_count": null,
   "id": "5d08c9d3",
   "metadata": {},
   "outputs": [],
   "source": [
    "import torch\n",
    "from dataclasses import dataclass\n",
    "from typing import Optional, Mapping, OrderedDict\n",
    "from transformers.onnx import OnnxConfig\n",
    "from transformers.utils import ModelOutput\n",
    "from transformers import BertModel\n",
    "\n",
    "@dataclass\n",
    "class EmbeddingOutput(ModelOutput):\n",
    "    last_hidden_state: Optional[torch.FloatTensor] = None\n",
    "\n",
    "\n",
    "class CustomEmbeddingBertModel(BertModel):\n",
    "    def forward(\n",
    "        self,\n",
    "        input_ids: Optional[torch.Tensor] = None,\n",
    "        attention_mask: Optional[torch.Tensor] = None,\n",
    "        head_mask: Optional[torch.Tensor] = None,\n",
    "        inputs_embeds: Optional[torch.Tensor] = None,\n",
    "    ) -> EmbeddingOutput:\n",
    "        embeddings = super().forward(input_ids=input_ids,\n",
    "                                     attention_mask=attention_mask,\n",
    "                                     head_mask=head_mask,\n",
    "                                     inputs_embeds=inputs_embeds,\n",
    "                                     output_attentions=True,\n",
    "                                     output_hidden_states=True,\n",
    "                                     return_dict=True)\n",
    "        mean_embedding = embeddings.last_hidden_state.mean(dim=1)\n",
    "        embedding_output = EmbeddingOutput(last_hidden_state=mean_embedding)\n",
    "        return embedding_output"
   ]
  },
  {
   "cell_type": "markdown",
   "id": "2616f114",
   "metadata": {},
   "source": [
    "Our custom embedding is  a wrapper around the Bert embedding model. It  which take the input ids and return the embedding of a sentence. The input ids are the tokenized version of a sentence. The embeddings of the sentence is the average of the embedding of all words in a  sentence.\n",
    "\n",
    "Here is how that work in practice.\n",
    "\n",
    "\n"
   ]
  },
  {
   "cell_type": "code",
   "execution_count": null,
   "id": "af7c21b6",
   "metadata": {},
   "outputs": [],
   "source": [
    "embedding_model_id = 'michiyasunaga/BioLinkBERT-large'\n",
    "base_model = CustomEmbeddingBertModel.from_pretrained(embedding_model_id)\n"
   ]
  },
  {
   "cell_type": "markdown",
   "id": "2124d137",
   "metadata": {},
   "source": [
    "Before passing the text to the embedding the text need to be transformed in a tokenizer."
   ]
  },
  {
   "cell_type": "code",
   "execution_count": null,
   "id": "0c6839c8",
   "metadata": {},
   "outputs": [],
   "source": [
    "from transformers import AutoTokenizer\n",
    "\n",
    "tokenizer = AutoTokenizer.from_pretrained(embedding_model_id)\n",
    "\n",
    "\n",
    "test_input = f\"what is the cause of Covid\"\n",
    "encoded_input = tokenizer([test_input],\n",
    "                          return_tensors='pt',\n",
    "                          max_length=512,\n",
    "                          truncation=True,)"
   ]
  },
  {
   "cell_type": "markdown",
   "id": "5abc847a",
   "metadata": {},
   "source": [
    "With our encoded_input and the base model we can generate the text embedding for our text input."
   ]
  },
  {
   "cell_type": "code",
   "execution_count": null,
   "id": "2ac3ab62",
   "metadata": {},
   "outputs": [],
   "source": [
    "encoded_input"
   ]
  },
  {
   "cell_type": "code",
   "execution_count": null,
   "id": "91c121d0",
   "metadata": {},
   "outputs": [],
   "source": [
    "encoded_input.pop('token_type_ids')"
   ]
  },
  {
   "cell_type": "code",
   "execution_count": null,
   "id": "123501c5",
   "metadata": {},
   "outputs": [],
   "source": [
    "embedding_output = base_model(**encoded_input)\n",
    "text_embeddings = embedding_output.last_hidden_state.detach().numpy().reshape(-1)\n",
    "print(text_embeddings.shape)"
   ]
  },
  {
   "cell_type": "markdown",
   "id": "d8a92091",
   "metadata": {},
   "source": [
    "The text embedding is the embedding representation of the sentence in text_input.\n",
    "It can be use in downstream application in different ways.\n",
    "\n",
    "The next step is save the model in the format we can use to deploy it in production."
   ]
  },
  {
   "cell_type": "markdown",
   "id": "c789cc92",
   "metadata": {},
   "source": [
    "## Exporting the Model to Onnx format\n",
    "\n",
    "### What is the ONNX format?\n",
    "\n",
    "ONNX stands for Open Neural Network Exchange. It is an open format built to represent machine learning models in a framework and language-agnostic way.\n",
    "\n",
    "As you may know, neural networks are computation graphs with input, weights, and operations. ONNX format is a way of saving neural networks as computation graphs. That  computational graph represents the flow of data through the neural network.\n",
    "\n",
    "The key benefits of saving neural networks in the ONNX format are interoperability and hardware access. Any deep learning platform can read a neural network saved in the ONNX format.  For example, a model trained in Pytorch can be exported to ONNX format and imported in Tensorflow and vice versa.\n",
    "\n",
    "You don't need to use Python to read a model saved as ONNX. You can use any programming language of your choice, such as Javascript, C, or C++. \n",
    "\n",
    "ONNX makes the model easier to access hardware optimizations. You can apply other optimizations, such as quantization, to your ONNX model.\n",
    "\n",
    "Let us see how we can convert our model to ONNX format to use the full benefits of it.\n",
    "\n",
    "Let's see how we can achieve that with the code."
   ]
  },
  {
   "cell_type": "code",
   "execution_count": null,
   "id": "e6c45c1f",
   "metadata": {},
   "outputs": [],
   "source": [
    "from pathlib import Path\n",
    "model_repository = Path.cwd().parent.joinpath(\"models_repository\")\n",
    "embedding_model_path = model_repository.joinpath(\"retrieval\", \"embedding_model\", \"1\")\n",
    "embedding_model_path.mkdir(exist_ok=True, parents=True)"
   ]
  },
  {
   "cell_type": "code",
   "execution_count": null,
   "id": "b2f4f742",
   "metadata": {},
   "outputs": [],
   "source": [
    "model_path"
   ]
  },
  {
   "cell_type": "code",
   "execution_count": null,
   "id": "fadca808",
   "metadata": {},
   "outputs": [],
   "source": [
    "!ls {model_path.__str__()}"
   ]
  },
  {
   "cell_type": "code",
   "execution_count": null,
   "id": "5d1fe919",
   "metadata": {},
   "outputs": [],
   "source": [
    "tuple(encoded_input.values())"
   ]
  },
  {
   "cell_type": "code",
   "execution_count": null,
   "id": "e2be5038",
   "metadata": {},
   "outputs": [],
   "source": [
    "from torch.onnx import export as torch_onnx_export\n",
    "\n",
    "torch_onnx_export(\n",
    "    base_model,\n",
    "    tuple(encoded_input.values()),\n",
    "    f=embedding_model_path.joinpath('bio-bert-embedder.onnx'),\n",
    "    input_names=['input_ids', 'attention_mask'],\n",
    "    dynamic_axes={'input_ids': {0: 'batch_size', 1: 'sequence'},\n",
    "                  'attention_mask': {0: 'batch_size', 1: 'sequence'},\n",
    "                  'last_hidden_state': {0: 'batch_size', 1: 'sequence'}},\n",
    "    do_constant_folding=True,\n",
    "    opset_version=13,\n",
    ")"
   ]
  },
  {
   "cell_type": "code",
   "execution_count": null,
   "id": "3b96aa5e",
   "metadata": {},
   "outputs": [],
   "source": [
    "base_model.config.save_pretrained(embedding_model_path)"
   ]
  },
  {
   "cell_type": "markdown",
   "id": "b9815da7",
   "metadata": {},
   "source": [
    "With the above code, we have our model exported into onnx format and ready to be deployed in production."
   ]
  },
  {
   "cell_type": "markdown",
   "id": "4a1548e3",
   "metadata": {},
   "source": [
    "## Model deployment on Docker with the ONNX Runtime.\n",
    "\n",
    "In this section, we will learn how  to use the transformed model in a docker container.\n",
    "\n",
    "One of the most obvious solutions is to deploy the model and wrap it in with Flask or Fastapi. While this solution can work in practice, it has some latency due to related the fact that the API is written in Python.   For this blog I will try a different approach, I will deploy the model using the onnx runtime which is a C++ backend. We will leverage the fact that our model in ONNX format is platform agnostic and we can deploy on any language backend.\n",
    "\n",
    "### Triton Server\n",
    "\n",
    "Triton is a software tool for deploying machine learning models for inference. It is designed to produce high-quality inference across different hardware platforms, either GPU or CPU. It also supports inference across cloud, data center, and embedded devices.\n",
    "\n",
    "One of the advantages of the triton server is that it supports dynamic batching and concurrent model execution.\n",
    "\n",
    "- Dynamic batching: \n",
    "\n",
    "For models that support batching, which is the case for deep learning models, triton implements scheduling and batching algorithms.  That approach combines individual requests to improve inference throughput.\n",
    "\n",
    "    \n",
    "\n",
    "- Concurrency model execution is the capacity to run simultaneously multiple models on the same GPU or various GPUs.\n",
    "\n",
    "### Triton Server Backend\n",
    "\n",
    "Triton supports different backends to execute the model. A backend is a wrapper around a deep learning framework like Pytorch, TensorFlow, TensorRT, or ONNX Runtime.\n",
    "\n",
    "Two backend types interested us for this post: the Python Backend and the ONNX runtime backend. \n",
    "\n",
    "The ONNX runtime backend executes ONNX models, and the Python backend allows the writing of the model logic in Python. \n",
    "\n",
    "In this post, we will be focused on the ONNX and the Python backend.\n",
    "\n",
    "### The Triton Server\n",
    "\n",
    "Let us set up the model repository for the triton inference server"
   ]
  },
  {
   "cell_type": "code",
   "execution_count": null,
   "id": "10fd7a04",
   "metadata": {},
   "outputs": [],
   "source": [
    "\n",
    "!touch {embedding_model_path.parent.__str__()}/config.pbtxt\n",
    "\n",
    "\n",
    "!mkdir -p {embedding_model_path.parent.__str__()}/ensemble_model/1\n",
    "!touch {embedding_model_path.parent.__str__()}/ensemble_model/config.pbtxt\n",
    "\n",
    "!mkdir -p {embedding_model_path.parent.__str__()}/tokenizer/1\n",
    "!touch {embedding_model_path.parent.parent.__str__()}/tokenizer/1/model.py\n",
    "\n",
    "!touch {embedding_model_path.parent.__str__()}/tokenizer/config.pbtxt"
   ]
  },
  {
   "cell_type": "markdown",
   "id": "8f3a81b4",
   "metadata": {},
   "source": [
    "This bash script will create the model repository  for our embedding model. The next section will set up the files in that model repository to run our models.\n",
    "\n",
    "The model repository should have three components, the tokenizer, the embedding model, and the ensemble model.\n",
    "\n",
    "The tokenizer is the configuration of our tokenizer model, it uses the Python backend and handles the tokenization of our text input.\n",
    "\n",
    "The tokenizer repository should have the files from our tokenizer, the model code, and the model configuration.\n",
    "\n",
    "It should have the following layout:"
   ]
  },
  {
   "cell_type": "markdown",
   "id": "a2437c0a",
   "metadata": {},
   "source": [
    "```\n",
    "└── tokenizer\n",
    "    ├── 1\n",
    "    │   ├── __pycache__\n",
    "    │   ├── config.json\n",
    "    │   ├── model.py\n",
    "    │   ├── special_tokens_map.json\n",
    "    │   ├── tokenizer.json\n",
    "    │   ├── tokenizer_config.json\n",
    "    │   └── vocab.txt\n",
    "    └── config.pbtxt\n",
    "```"
   ]
  },
  {
   "cell_type": "markdown",
   "id": "e76b9458",
   "metadata": {},
   "source": [
    "To create the tokenizer file, we will have to save our tokenizer to the tokenizer repository, we will use the following code."
   ]
  },
  {
   "cell_type": "code",
   "execution_count": null,
   "id": "42af9eb0",
   "metadata": {},
   "outputs": [],
   "source": [
    "model_repository"
   ]
  },
  {
   "cell_type": "code",
   "execution_count": null,
   "id": "3cb244b4",
   "metadata": {},
   "outputs": [],
   "source": [
    "\n",
    "\n",
    "tokenizer_path = model_repository.joinpath(\"retrieval\", \"tokenizer\")\n",
    "tokenizer_path = tokenizer_path.joinpath(\"1\")\n",
    "tokenizer.save_pretrained(tokenizer_path)\n"
   ]
  },
  {
   "cell_type": "markdown",
   "id": "82353017",
   "metadata": {},
   "source": [
    "\n",
    "From that tokenizer we will create the model.py file, which will handle the tokeinization part.\n",
    "\n",
    "\n",
    "Here is how the model should look like"
   ]
  },
  {
   "cell_type": "code",
   "execution_count": null,
   "id": "a5c5e70f",
   "metadata": {},
   "outputs": [],
   "source": [
    "%%writefile  {embedding_model_path.parent.parent.__str__()}/tokenizer/1/model.py\n",
    "import os\n",
    "from typing import Dict, List\n",
    "\n",
    "import numpy as np\n",
    "import triton_python_backend_utils as pb_utils\n",
    "from transformers import AutoTokenizer, PreTrainedTokenizer, TensorType\n",
    "\n",
    "\n",
    "class TritonPythonModel:\n",
    "    tokenizer: PreTrainedTokenizer\n",
    "\n",
    "    def initialize(self, args: Dict[str, str]) -> None:\n",
    "        \"\"\"\n",
    "        Initialize the tokenization process\n",
    "        :param args: arguments from Triton config file\n",
    "        \"\"\"\n",
    "        # more variables in https://github.com/triton-inference-server/python_backend/blob/main/src/python.cc\n",
    "        path: str = os.path.join(\n",
    "            args[\"model_repository\"], args[\"model_version\"])\n",
    "        self.tokenizer = AutoTokenizer.from_pretrained(path)\n",
    "\n",
    "    def execute(self, requests) -> \"List[List[pb_utils.Tensor]]\":\n",
    "        \"\"\"\n",
    "        Parse and tokenize each request\n",
    "        :param requests: 1 or more requests received by Triton server.\n",
    "        :return: text as input tensors\n",
    "        \"\"\"\n",
    "        responses = []\n",
    "        # for loop for batch requests (disabled in our case)\n",
    "        for request in requests:\n",
    "            # binary data typed back to string\n",
    "            query = [\n",
    "                t.decode(\"UTF-8\")\n",
    "                for t in pb_utils.get_input_tensor_by_name(request, \"TEXT\")\n",
    "                .as_numpy()\n",
    "                .tolist()\n",
    "            ]\n",
    "            tokens: Dict[str, np.ndarray] = self.tokenizer(\n",
    "                text=query, return_tensors=TensorType.NUMPY, padding=True, truncation=True\n",
    "            )\n",
    "            # tensorrt uses int32 as input type, ort uses int64\n",
    "            tokens = {k: v.astype(np.int64) for k, v in tokens.items()}\n",
    "            # communicate the tokenization results to Triton server\n",
    "            outputs = list()\n",
    "            for input_name in self.tokenizer.model_input_names:\n",
    "                tensor_input = pb_utils.Tensor(input_name, tokens[input_name])\n",
    "                outputs.append(tensor_input)\n",
    "\n",
    "            inference_response = pb_utils.InferenceResponse(\n",
    "                output_tensors=outputs)\n",
    "            responses.append(inference_response)\n",
    "\n",
    "        return responses"
   ]
  },
  {
   "cell_type": "markdown",
   "id": "caf40628",
   "metadata": {},
   "source": [
    "The `initialize` method from this class will create our tokenizer from this folder. All our tokenizer files will be initialized from it.\n",
    "\n",
    "The `execute` method is the one that handles the request. It can take multiple requests and parse them. Finally,   create the  query from the text, and return the tokenized text.\n",
    "\n",
    "With our tokenizer setup, let us configure the Python server to use it.\n",
    "\n",
    "The content of the tokenizer/config.pbxt should look like this."
   ]
  },
  {
   "cell_type": "code",
   "execution_count": null,
   "id": "58850f61",
   "metadata": {},
   "outputs": [],
   "source": [
    "%%writefile {embedding_model_path.parent.parent.__str__()}/tokenizer/config.pbtxt\n",
    "\n",
    "\n",
    "name: \"tokenizer\"\n",
    "max_batch_size: 0\n",
    "backend: \"python\"\n",
    "\n",
    "input [\n",
    "{\n",
    "    name: \"TEXT\"\n",
    "    data_type: TYPE_STRING\n",
    "    dims: [ -1 ]\n",
    "}\n",
    "]\n",
    "\n",
    "output [\n",
    "{\n",
    "    name: \"input_ids\"\n",
    "    data_type: TYPE_INT64\n",
    "    dims: [-1, -1]\n",
    "},\n",
    "{\n",
    "    name: \"attention_mask\"\n",
    "    data_type: TYPE_INT64\n",
    "    dims: [-1, -1]\n",
    "}\n",
    "]\n",
    "\n",
    "instance_group [\n",
    "    {\n",
    "      count: 1\n",
    "      kind: KIND_CPU\n",
    "    }\n",
    "]"
   ]
  },
  {
   "cell_type": "markdown",
   "id": "1f2eaa5a",
   "metadata": {},
   "source": [
    "In this file, we specify that our backend is a Python backend.  It will take an input named text, with dimension -1. The dimension -1 which means dynamic, returns the inputs_ids, and the attention_mask and will run on a CPU.\n",
    "\n",
    "The second component of our model is the embedding model itself, we will it should have the following layout:\n",
    "```\n",
    "├── embedding_model\n",
    "│   ├── 1\n",
    "│   │   ├── bio-bert-embedder.onnx\n",
    "│   │   └── config.json\n",
    "│   └── config.pbtxt\n",
    "\n",
    "```"
   ]
  },
  {
   "cell_type": "markdown",
   "id": "c84a0635",
   "metadata": {},
   "source": [
    "Let look at the `config.pbtxt` for the embedding model"
   ]
  },
  {
   "cell_type": "code",
   "execution_count": null,
   "id": "b8f515b4",
   "metadata": {},
   "outputs": [],
   "source": [
    "embedding_model_path"
   ]
  },
  {
   "cell_type": "code",
   "execution_count": null,
   "id": "e559c70f",
   "metadata": {},
   "outputs": [],
   "source": [
    "%%writefile {embedding_model_path.parent.__str__()}/config.pbtxt\n",
    "\n",
    "name: \"embedding_model\"\n",
    "platform: \"onnxruntime_onnx\"\n",
    "backend: \"onnxruntime\"\n",
    "default_model_filename: \"bio-bert-embedder.onnx\"\n",
    "max_batch_size: 0\n",
    "input [\n",
    "  {\n",
    "    name: \"input_ids\"\n",
    "    data_type: TYPE_INT64\n",
    "    dims: [ -1, -1 ]\n",
    "  },\n",
    "{\n",
    "    name: \"attention_mask\"\n",
    "    data_type: TYPE_INT64\n",
    "    dims: [ -1, -1 ]\n",
    "  }\n",
    "]\n",
    "output [\n",
    "  {\n",
    "    name: \"3391\"  # not sure why this is name 3391, need to double check\n",
    "    data_type: TYPE_FP32\n",
    "    dims: [ -1, 1024 ]\n",
    "  }\n",
    "]\n",
    "\n",
    "instance_group [\n",
    "    {\n",
    "      count: 1\n",
    "      kind: KIND_CPU\n",
    "    }\n",
    "]"
   ]
  },
  {
   "cell_type": "markdown",
   "id": "8dbe7721",
   "metadata": {},
   "source": [
    "It is the configuration file for our embedding model.  We can see that it takes the output from our tokenizer model and produces the embedding vector of shape, -1, 1024. With -1 meaning the dynamic shape, and 1024 is our embedding size.\n",
    "\n",
    "Note: for some reason, the model output is named `3391` I  don't know why it is named like that.\n",
    "\n",
    "We can connect our embedding model and the tokenizer's input and output with the ensemble model. It should have the following layout: \n"
   ]
  },
  {
   "cell_type": "markdown",
   "id": "4983d785",
   "metadata": {},
   "source": [
    "```\n",
    "├── ensemble_model\n",
    "│   ├── 1\n",
    "│   └── config.pbtxt\n",
    "```"
   ]
  },
  {
   "cell_type": "markdown",
   "id": "853f7913",
   "metadata": {},
   "source": [
    "And the content of the `config.pbtxt` file in the ensemble model should be like this:"
   ]
  },
  {
   "cell_type": "code",
   "execution_count": null,
   "id": "0d40d46a",
   "metadata": {},
   "outputs": [],
   "source": [
    "%%writefile {embedding_model_path.parent.parent.__str__()}/ensemble_model/config.pbtxt\n",
    "name: \"ensemble_model\"\n",
    "# maximum batch size \n",
    "max_batch_size: 0 \n",
    "platform: \"ensemble\"\n",
    "\n",
    "#input to the model \n",
    "input [\n",
    "{\n",
    "    name: \"TEXT\"\n",
    "    data_type: TYPE_STRING\n",
    "    dims: [ -1 ] \n",
    "    # -1 means dynamic axis, aka this dimension may change \n",
    "}\n",
    "]\n",
    "\n",
    "#output of the model \n",
    "output {\n",
    "    name: \"3391\"\n",
    "    data_type: TYPE_FP32\n",
    "    dims: [-1, 1024] \n",
    "    # two dimensional tensor, where 1st dimension: batch-size, 2nd dimension: #classes, not sure why name is 3391.\n",
    "}\n",
    "\n",
    "#Type of scheduler to be used\n",
    "ensemble_scheduling {\n",
    "    step [\n",
    "        {\n",
    "            model_name: \"tokenizer\"\n",
    "            model_version: -1\n",
    "            input_map {\n",
    "            key: \"TEXT\"\n",
    "            value: \"TEXT\"\n",
    "        }\n",
    "        output_map [\n",
    "        {\n",
    "            key: \"input_ids\"\n",
    "            value: \"input_ids\"\n",
    "        },\n",
    "        {\n",
    "            key: \"attention_mask\"\n",
    "            value: \"attention_mask\"\n",
    "        }\n",
    "        ]\n",
    "        },\n",
    "        {\n",
    "            model_name: \"embedding_model\"\n",
    "            model_version: -1\n",
    "        input_map [\n",
    "            {\n",
    "                key: \"input_ids\"\n",
    "                value: \"input_ids\"\n",
    "            },\n",
    "            {\n",
    "                key: \"attention_mask\"\n",
    "                value: \"attention_mask\"\n",
    "            }\n",
    "        ]\n",
    "        output_map {\n",
    "                key: \"3391\"\n",
    "                value: \"3391\"\n",
    "            }\n",
    "        }\n",
    "    ]\n",
    "}\n"
   ]
  },
  {
   "cell_type": "markdown",
   "id": "8df28df4",
   "metadata": {},
   "source": [
    "\n",
    "In a nutshell, this config connects our tokenizer and the embedding model. You can easily see that from it the output of the tokenizer model is passed to the embedding model to produce the embedding vector.\n",
    "\n",
    "If the three components were configured correctly we can have the following layout:\n",
    "\n",
    "```\n",
    "\n",
    "models_repository/retrieval\n",
    "├── embedding_model\n",
    "│   ├── 1\n",
    "│   │   ├── bio-bert-embedder.onnx\n",
    "│   │   └── config.json\n",
    "│   └── config.pbtxt\n",
    "├── ensemble_model\n",
    "│   ├── 1\n",
    "│   └── config.pbtxt\n",
    "└── tokenizer\n",
    "    ├── 1\n",
    "    │   ├── __pycache__\n",
    "    │   ├── config.json\n",
    "    │   ├── model.py\n",
    "    │   ├── special_tokens_map.json\n",
    "    │   ├── tokenizer.json\n",
    "    │   ├── tokenizer_config.json\n",
    "    │   └── vocab.txt\n",
    "    └── config.pbtxt\n",
    "\n",
    "```"
   ]
  },
  {
   "cell_type": "markdown",
   "id": "6e377efd",
   "metadata": {},
   "source": [
    "\n",
    "If you have all the following components we can go to the next stage.\n",
    "\n",
    "### Building the triton Inference server image.\n",
    "\n",
    "In this section, we will see how to build the triton inference server image. The base triton inference server docker image is huge and can weigh up to 10 GB. In the triton inference server there is a way to build a Cpu only image for triton.  I wasn't able to build it from my Macbook. \n",
    "\n",
    "We will be using the image [Jackie Xiao](https://github.com/Jackiexiao) built for that purpose.\n",
    "\n",
    "It is a CPU-only image, hence the small size of 500Mb. If you are deploying the model in an infrastructure with a GPU, you will need to use the full Triton Image which is huge.\n",
    "\n",
    "Here is the docker file used to build this image.\n",
    "\n"
   ]
  },
  {
   "cell_type": "code",
   "execution_count": null,
   "id": "7082e950",
   "metadata": {},
   "outputs": [],
   "source": [
    "%%writefile {Path.cwd().parent.__str__()}/Dockerfile\n",
    "\n",
    "# Use the base image\n",
    "FROM jackiexiao/tritonserver:23.12-onnx-py-cpu\n",
    "\n",
    "\n",
    "\n",
    "# Install the required Python packages\n",
    "RUN pip install transformers==4.27.1 sacremoses==0.1.1\n",
    "\n"
   ]
  },
  {
   "cell_type": "markdown",
   "id": "8375f395",
   "metadata": {},
   "source": [
    "You can see that we are pulling the base image and install in it the transformer and the Moses tokenizer.\n",
    "\n",
    "With that docker image, we can build the docker image.\n",
    "\n",
    "` docker build -t espymur/triton-onnx-cpu:dev  -f Dockerfile .`\n",
    "\n",
    "If the image was successfully built we push it to the docker image repository:\n",
    "\n",
    "`docker push espymur/triton-onnx-cpu:dev`\n",
    "\n",
    "After pushing the image to the repository, you can start your docker container with the triton server in it.\n",
    "\n",
    "```\n",
    "\n",
    " docker run --rm -p 8000:8000 -p 8001:8001 -p 8002:8002  -v ${PWD}/models_repository/retrieval:/models  espymur/triton-onnx-cpu:dev tritonserver --model-repository=/models\n",
    "\n",
    "```\n",
    "\n",
    "This command does the following:\n",
    "\n",
    "It starts the docker container with the triton-onnx-cpu:dev image.\n",
    "\n",
    "It exposes the different ports from the container to the external environment:\n",
    "\n",
    "For HTTP connection,  it maps the port 8000 from the container to the port 8000 of the external environment.\n",
    "\n",
    "For GRPC, it maps the port 8001 to the port 8001.\n",
    "\n",
    "For the metric server, it maps the port 8002 to the port 8002\n",
    "\n",
    "It maps the local directory, named `model_repository` to the folder named `/models` in the docker container by using volumes.\n",
    "\n",
    "We specify that the triton server should use the model folder as the model repository.\n",
    "\n",
    "If everything goes well with that command you should be able to see the following output which tells us which port is used by the model.\n",
    "\n",
    "```\n",
    "\n",
    "I0329 18:42:18.452806 1 grpc_server.cc:2495] Started GRPCInferenceService at 0.0.0.0:8001\n",
    "\n",
    "I0329 18:42:18.460674 1 http_server.cc:4619] Started HTTPService at 0.0.0.0:8000\n",
    "\n",
    "I0329 18:42:18.520315 1 http_server.cc:282] Started Metrics Service at 0.0.0.0:8002\n",
    "\n",
    "```\n",
    "\n",
    "With that code, we have our embedding API running and we can now send requests to it.\n",
    "\n"
   ]
  },
  {
   "cell_type": "markdown",
   "id": "45a78aea",
   "metadata": {},
   "source": [
    "### Making Request to the inference Server.\n",
    "\n",
    "We have now built our model, the next step is to make an inference request to it and analyze the response.\n",
    "\n",
    "Since the model is deployed as a REST API you can make inference requests to it using any client of your choice in any language\n",
    "\n",
    ".  The inference server is very strict in terms of what it expects as input, and how to build it. Fortunately, they have described different clients to use to build the inputs. \n",
    "\n",
    "For demonstration purposes, I will be using the Python HTTP client to make inference requests. \n",
    "\n",
    "But nothing restricted you from using your language to make HTTP requests to the API.\n"
   ]
  },
  {
   "cell_type": "code",
   "execution_count": null,
   "id": "80a93ac3",
   "metadata": {},
   "outputs": [],
   "source": [
    "import numpy as np\n",
    "import tritonclient.http as httpclient\n",
    "url = \"localhost:8000\"\n",
    "http_client = httpclient.InferenceServerClient(url=url,verbose=False)\n",
    "                  "
   ]
  },
  {
   "cell_type": "markdown",
   "id": "c4bf7c16",
   "metadata": {},
   "source": [
    "The above code creates the http client, with our server url, let us define the input and output of it."
   ]
  },
  {
   "cell_type": "code",
   "execution_count": null,
   "id": "83689039",
   "metadata": {},
   "outputs": [],
   "source": [
    "text_input = httpclient.InferInput('TEXT', shape=[1], datatype='BYTES')\n",
    "\n",
    "embedding_output = httpclient.InferRequestedOutput(\"3391\", binary_data=False)"
   ]
  },
  {
   "cell_type": "markdown",
   "id": "1d0a0d63",
   "metadata": {},
   "source": [
    "\n",
    "Those are the placeholder for our inputs and output, let us fill them now:\n"
   ]
  },
  {
   "cell_type": "code",
   "execution_count": null,
   "id": "02996818",
   "metadata": {},
   "outputs": [],
   "source": []
  },
  {
   "cell_type": "code",
   "execution_count": null,
   "id": "c4ebbebe",
   "metadata": {},
   "outputs": [],
   "source": [
    "sentences = [\"what cause covid\"]\n",
    "np_input_data = np.asarray([sentences], dtype=object)\n"
   ]
  },
  {
   "cell_type": "code",
   "execution_count": null,
   "id": "9536b759",
   "metadata": {},
   "outputs": [],
   "source": [
    "np_input_data.reshape(-1)"
   ]
  },
  {
   "cell_type": "code",
   "execution_count": null,
   "id": "805f0f8d",
   "metadata": {},
   "outputs": [],
   "source": [
    "text_input.set_data_from_numpy(np_input_data.reshape(-1))"
   ]
  },
  {
   "cell_type": "code",
   "execution_count": null,
   "id": "9632163a",
   "metadata": {},
   "outputs": [],
   "source": [
    "results = http_client.infer(model_name=\"ensemble_model\", inputs=[text_input], outputs=[embedding_output])"
   ]
  },
  {
   "cell_type": "code",
   "execution_count": null,
   "id": "d4c68715",
   "metadata": {},
   "outputs": [],
   "source": [
    "results"
   ]
  },
  {
   "cell_type": "markdown",
   "id": "d6789837",
   "metadata": {},
   "source": [
    "We can now convert back the output to numpy using"
   ]
  },
  {
   "cell_type": "code",
   "execution_count": null,
   "id": "c5b593fc",
   "metadata": {},
   "outputs": [],
   "source": [
    "inference_output = results.as_numpy('3391')\n",
    "print(inference_output.shape)"
   ]
  },
  {
   "cell_type": "markdown",
   "id": "9d0dcedc",
   "metadata": {},
   "source": [
    "That is all we have our embedding API, which takes the text and produces the embedding vector.\n",
    "\n",
    "### Conclusion\n",
    "\n",
    "In this post, we have learned how to deploy an embedding model as an API using the triton inference server. The knowledge learned in this post can be used to deploy any transformer model  with an encoder or decoder using the triton inference server. Any model from the BERT, or GPT family.  It can slightly  be adapted to use with encoder-decoder models such as T5 or M2M.\n",
    "\n",
    "Once we deploy the model to the production server it will grow with users and need to scale. In the second part of this series, we will learn how to scale the model using Kubernetes.\n"
   ]
  }
 ],
 "metadata": {
  "kernelspec": {
   "display_name": "my virtualenviron",
   "language": "python",
   "name": ".venv"
  },
  "language_info": {
   "codemirror_mode": {
    "name": "ipython",
    "version": 3
   },
   "file_extension": ".py",
   "mimetype": "text/x-python",
   "name": "python",
   "nbconvert_exporter": "python",
   "pygments_lexer": "ipython3",
   "version": "3.10.4"
  }
 },
 "nbformat": 4,
 "nbformat_minor": 5
}
